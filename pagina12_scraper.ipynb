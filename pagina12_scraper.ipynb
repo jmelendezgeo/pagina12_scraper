{
  "nbformat": 4,
  "nbformat_minor": 0,
  "metadata": {
    "colab": {
      "name": "pagina12_scraper",
      "provenance": [],
      "authorship_tag": "ABX9TyMH93i+pkeoNiEmOS1B4vdj",
      "include_colab_link": true
    },
    "kernelspec": {
      "name": "python3",
      "display_name": "Python 3"
    },
    "language_info": {
      "name": "python"
    }
  },
  "cells": [
    {
      "cell_type": "markdown",
      "metadata": {
        "id": "view-in-github",
        "colab_type": "text"
      },
      "source": [
        "<a href=\"https://colab.research.google.com/github/jmelendezgeo/pagina12_scraper/blob/main/pagina12_scraper.ipynb\" target=\"_parent\"><img src=\"https://colab.research.google.com/assets/colab-badge.svg\" alt=\"Open In Colab\"/></a>"
      ]
    },
    {
      "cell_type": "code",
      "metadata": {
        "id": "34fIWizNdJI7"
      },
      "source": [
        "# Importamos las librerias necesarias\n",
        "import requests\n",
        "from bs4 import BeautifulSoup\n",
        "from IPython.display import Image\n",
        "import pandas as pd"
      ],
      "execution_count": 2,
      "outputs": []
    },
    {
      "cell_type": "code",
      "metadata": {
        "id": "9nugDFCJdi30"
      },
      "source": [
        "def main(url):\n",
        "    links_secciones = _obtener_secciones(url)\n",
        "    notas = _obtener_notas(links_secciones)\n",
        "    data = _obtener_data(notas)\n",
        "    _save_data(data)\n",
        "\n",
        "def obtener_secciones(url):\n",
        "  '''\n",
        "  Funcion que recibe la url y retorna una lista con los enlaces a las secciones\n",
        "  '''\n",
        "\n",
        "  # Manejo de errores al tener problemas con la url\n",
        "  try:\n",
        "    # Solicitud a url recibida\n",
        "    request = requests.get(url)\n",
        "\n",
        "    # Si status code es exitoso procedemos\n",
        "    if request.status_code != 200:\n",
        "      print('status code no exitoso')     \n",
        "\n",
        "    else:\n",
        "      # Creamos sopa con informacion de la pagina\n",
        "      soup=BeautifulSoup(request.text,'lxml')\n",
        "\n",
        "      # Tomamos las secciones y guardamos\n",
        "      secciones = soup.find('ul',attrs={'horizontal-list main-sections hide-on-dropdown'}).find_all('li')\n",
        "\n",
        "      # Guardamos los links de cada seccion en una lista\n",
        "      links_secciones = [seccion.a.get('href') for seccion in secciones]\n",
        "\n",
        "      # Retornamos la lista de secciones. Cada elemento de la lista es un enlace a una seccion\n",
        "      return links_secciones\n",
        "\n",
        "  except Exception as e:\n",
        "    print('No se pudo obtener seccion. Error: ')\n",
        "    print(e)\n",
        "    print('\\n')\n",
        "\n",
        "def obtener_notas(links):\n",
        "  '''\n",
        "  Funcion que recibe una lista donde cada elemento es un enlace. Obtiene las noticias\n",
        "  de cada enlace y retorna una lista con los enlaces de la primera página de cada seccion\n",
        "  '''\n",
        "  pass\n",
        "\n",
        "def obtener_info(s_nota):\n",
        "  '''\n",
        "  Funcion que recorre cada nota, extrae la informacion y retorna un diccionario\n",
        "  donde cada elemento es la informacion de cada nota.\n",
        "  '''\n",
        "  pass\n",
        "\n"
      ],
      "execution_count": 4,
      "outputs": []
    },
    {
      "cell_type": "code",
      "metadata": {
        "id": "mtq9Z2X8eMYj"
      },
      "source": [
        "if __name__ == '__main__':\n",
        "  url = 'https://www.pagina12.com.ar'\n",
        "\n",
        "  lista_secciones= obtener_secciones(url)\n",
        "  notas = obtener_notas(lista_secciones)\n"
      ],
      "execution_count": 5,
      "outputs": []
    },
    {
      "cell_type": "code",
      "metadata": {
        "colab": {
          "base_uri": "https://localhost:8080/"
        },
        "id": "QZNns-0Rjgqe",
        "outputId": "664af39f-6845-4f43-87b4-8f7ac4144842"
      },
      "source": [
        "lista_secciones"
      ],
      "execution_count": 6,
      "outputs": [
        {
          "output_type": "execute_result",
          "data": {
            "text/plain": [
              "['https://www.pagina12.com.ar/secciones/el-pais',\n",
              " 'https://www.pagina12.com.ar/secciones/economia',\n",
              " 'https://www.pagina12.com.ar/secciones/sociedad',\n",
              " 'https://www.pagina12.com.ar/suplementos/cultura-y-espectaculos',\n",
              " 'https://www.pagina12.com.ar/secciones/deportes',\n",
              " 'https://www.pagina12.com.ar/secciones/el-mundo',\n",
              " 'https://www.pagina12.com.ar/secciones/psicologia']"
            ]
          },
          "metadata": {
            "tags": []
          },
          "execution_count": 6
        }
      ]
    },
    {
      "cell_type": "code",
      "metadata": {
        "id": "Q2JD5mW7jjKE"
      },
      "source": [
        ""
      ],
      "execution_count": null,
      "outputs": []
    }
  ]
}